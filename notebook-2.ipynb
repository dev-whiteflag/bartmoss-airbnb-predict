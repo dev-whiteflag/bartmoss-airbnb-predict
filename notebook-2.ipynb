{
 "cells": [
  {
   "cell_type": "code",
   "execution_count": 1,
   "id": "initial_id",
   "metadata": {
    "collapsed": true,
    "ExecuteTime": {
     "end_time": "2023-10-18T03:41:27.559540600Z",
     "start_time": "2023-10-18T03:41:25.021563Z"
    }
   },
   "outputs": [],
   "source": [
    "import keras\n",
    "import time\n",
    "import datetime\n",
    "import pandas as pd\n",
    "from sklearn.preprocessing import LabelEncoder\n",
    "from sklearn.model_selection import train_test_split\n",
    "from sklearn.preprocessing import StandardScaler\n",
    "from sklearn.linear_model import LinearRegression\n",
    "from sklearn.preprocessing import MultiLabelBinarizer\n",
    "from sklearn.preprocessing import MinMaxScaler\n",
    "import tensorflow as tf\n",
    "import numpy as np\n",
    "import seaborn as sns\n",
    "import matplotlib.pyplot as plt\n",
    "\n",
    "pd.set_option('display.max_columns', 20)\n",
    "pd.set_option('display.max_rows', 20)"
   ]
  },
  {
   "cell_type": "code",
   "execution_count": 51,
   "outputs": [
    {
     "name": "stderr",
     "output_type": "stream",
     "text": [
      "C:\\Users\\first\\AppData\\Local\\Temp\\ipykernel_4188\\1355182641.py:1: DtypeWarning: Columns (1,17,19,20,28,33,34,54,62,63,66,68,69,88) have mixed types. Specify dtype option on import or set low_memory=False.\n",
      "  data = pd.read_csv('total_data.csv')\n"
     ]
    }
   ],
   "source": [
    "data = pd.read_csv('total_data.csv')\n",
    "data.head().T\n",
    "\n",
    "data = data[[\"id\", \"host_id\", \"host_identity_verified\", \"neighbourhood\", \"property_type\", \"room_type\", \"accommodates\", \"bathrooms\", \"bedrooms\", \"beds\", \"amenities\", \"price\", \"minimum_nights\", \"host_is_superhost\", \"has_availability\", \"calculated_host_listings_count\", \"reviews_per_month\", \"availability_365\"]]"
   ],
   "metadata": {
    "collapsed": false,
    "ExecuteTime": {
     "end_time": "2023-10-18T04:19:22.195335Z",
     "start_time": "2023-10-18T04:18:36.687410Z"
    }
   },
   "id": "b5874925e73305a2"
  },
  {
   "cell_type": "code",
   "execution_count": 30,
   "outputs": [],
   "source": [
    "le = LabelEncoder()\n",
    "# data['host_identity_verified'] = data['host_identity_verified'].astype('bool')\n",
    "# data['host_identity_verified_encoded'] = le.fit_transform(data['host_identity_verified'])\n",
    "data['room_type_encoded'] = le.fit_transform(data['room_type'])\n",
    "data['property_type_encoded'] = le.fit_transform(data['property_type'])\n",
    "data['neighbourhood_encoded'] = le.fit_transform(data['neighbourhood'])\n",
    "# data['has_availability'] = data['has_availability'].astype('bool')\n",
    "# data['has_availability_encoded'] = le.fit_transform(data['has_availability'])\n",
    "# data['host_is_superhost'] = data['host_is_superhost'].astype('bool')\n",
    "# data['host_is_superhost_encoded'] = le.fit_transform(data['host_is_superhost'])\n",
    "data['price'] = data['price'].replace('[\\$,]', '', regex=True)\n",
    "data['price'] = data['price'].astype(float)\n",
    "data = data.dropna()"
   ],
   "metadata": {
    "collapsed": false,
    "ExecuteTime": {
     "end_time": "2023-10-18T03:55:44.805710900Z",
     "start_time": "2023-10-18T03:55:43.659901Z"
    }
   },
   "id": "a12c55e148a6d8a5"
  },
  {
   "cell_type": "code",
   "execution_count": 31,
   "outputs": [],
   "source": [
    "amenities = (data['amenities'].str.strip('{}').str.get_dummies(',').rename(columns= lambda x: x.strip('\"')))\n",
    "dataAmenities = pd.DataFrame(data['price']).join(amenities)"
   ],
   "metadata": {
    "collapsed": false,
    "ExecuteTime": {
     "end_time": "2023-10-18T03:56:10.492670100Z",
     "start_time": "2023-10-18T03:55:44.807027300Z"
    }
   },
   "id": "2b09bd2c91cf398"
  },
  {
   "cell_type": "code",
   "execution_count": 32,
   "outputs": [],
   "source": [
    "corr = dataAmenities.corr()\n",
    "attrPriceCoeffs = corr['price'].drop('price')\n",
    "attrPriceCoeffsVal = attrPriceCoeffs.values.reshape(-1, 1)\n",
    "scaler = MinMaxScaler()\n",
    "attrPriceCoeffsNorm = scaler.fit_transform(attrPriceCoeffsVal)"
   ],
   "metadata": {
    "collapsed": false,
    "ExecuteTime": {
     "end_time": "2023-10-18T03:56:29.080043400Z",
     "start_time": "2023-10-18T03:56:10.495669900Z"
    }
   },
   "id": "c80f9fe5b1f60281"
  },
  {
   "cell_type": "code",
   "execution_count": 33,
   "outputs": [],
   "source": [
    "coeffs = pd.DataFrame(attrPriceCoeffsNorm)\n",
    "coeffs.set_index(attrPriceCoeffs.keys(), inplace=True)\n",
    "coeffs.rename(columns= lambda  x: 'price', inplace=True)\n",
    "coeffs.rename(str.lower, axis='index', inplace=True)\n",
    "dataAmenities.rename(columns= lambda x: x.lower(), inplace=True)\n",
    "dataAmenitiesCol = dataAmenities.columns.drop('price')\n",
    "\n",
    "for c in dataAmenitiesCol:\n",
    "    sum += dataAmenities[c] * coeffs.at[c, 'price']\n",
    "    dataAmenities['sum'] = sum\n",
    "\n",
    "data['amenities_sum'] = dataAmenities['sum']"
   ],
   "metadata": {
    "collapsed": false,
    "ExecuteTime": {
     "end_time": "2023-10-18T03:56:33.621797900Z",
     "start_time": "2023-10-18T03:56:29.083088300Z"
    }
   },
   "id": "5ba5db452bdc7916"
  },
  {
   "cell_type": "code",
   "execution_count": 42,
   "outputs": [
    {
     "data": {
      "text/plain": "              id  host_identity_verified    neighbourhood       property_type  \\\n0          17878                    True       Copacabana         Condominium   \n1          24480                    True          Ipanema           Apartment   \n2          25026                    True       Copacabana           Apartment   \n3          31560                    True          Ipanema           Apartment   \n4          35636                    True          Ipanema           Apartment   \n...          ...                     ...              ...                 ...   \n783822  43236463                    True  Barra da Tijuca           Apartment   \n784030  43371775                    True  Barra da Tijuca  Serviced apartment   \n784033  43381083                    True      Vila Isabel           Apartment   \n784035  43381600                    True       Copacabana           Apartment   \n784069  43425307                    True  Barra da Tijuca           Apartment   \n\n              room_type accommodates  bathrooms  bedrooms  beds  \\\n0       Entire home/apt            5        1.0       2.0   2.0   \n1       Entire home/apt            2        1.0       1.0   1.0   \n2       Entire home/apt            3        1.0       1.0   2.0   \n3       Entire home/apt            3        1.0       1.0   2.0   \n4       Entire home/apt            3        1.5       1.0   2.0   \n...                 ...          ...        ...       ...   ...   \n783822  Entire home/apt            4        1.0       1.0   1.0   \n784030  Entire home/apt            2        1.0       1.0   2.0   \n784033  Entire home/apt            4        2.0       2.0   2.0   \n784035  Entire home/apt            4        1.0       0.0   1.0   \n784069  Entire home/apt            3        1.0       1.0   1.0   \n\n                                                amenities  ...  \\\n0       {TV,\"Cable TV\",Internet,Wifi,\"Air conditioning...  ...   \n1       {TV,\"Cable TV\",Wifi,\"Air conditioning\",\"First ...  ...   \n2       {TV,\"Cable TV\",Internet,Wifi,\"Air conditioning...  ...   \n3       {TV,\"Cable TV\",Internet,Wifi,\"Air conditioning...  ...   \n4       {TV,\"Cable TV\",Internet,Wifi,\"Air conditioning...  ...   \n...                                                   ...  ...   \n783822  {TV,\"Air conditioning\",Pool,Kitchen,\"Free park...  ...   \n784030  {TV,Wifi,\"Air conditioning\",Pool,\"Free parking...  ...   \n784033  {TV,\"Air conditioning\",Kitchen,Elevator,\"Free ...  ...   \n784035  {TV,Wifi,\"Air conditioning\",Kitchen,Essentials...  ...   \n784069  {TV,\"Cable TV\",Wifi,\"Air conditioning\",Pool,Ki...  ...   \n\n        calculated_host_listings_count reviews_per_month  availability_365  \\\n0                                  1.0              2.16             309.0   \n1                                  1.0              0.88               0.0   \n2                                  3.0              2.15             335.0   \n3                                  1.0              2.18             173.0   \n4                                  1.0              2.08             144.0   \n...                                ...               ...               ...   \n783822                             1.0              2.00              86.0   \n784030                             1.0              1.00             128.0   \n784033                             2.0              3.00             150.0   \n784035                             1.0              2.00              60.0   \n784069                             1.0              1.00              79.0   \n\n        host_identity_verified_encoded  room_type_encoded  \\\n0                                    0                  1   \n1                                    0                  1   \n2                                    0                  1   \n3                                    0                  1   \n4                                    0                  1   \n...                                ...                ...   \n783822                               0                  1   \n784030                               0                  1   \n784033                               0                  1   \n784035                               0                  1   \n784069                               0                  1   \n\n        property_type_encoded  neighbourhood_encoded  \\\n0                          15                     24   \n1                           2                     46   \n2                           2                     24   \n3                           2                     46   \n4                           2                     46   \n...                       ...                    ...   \n783822                      2                      4   \n784030                     38                      4   \n784033                      2                     99   \n784035                      2                     24   \n784069                      2                      4   \n\n        has_availability_encoded  host_is_superhost_encoded  amenities_sum  \n0                              0                          0      41.764552  \n1                              0                          0      24.316472  \n2                              0                          0      28.619233  \n3                              0                          0      29.802090  \n4                              0                          0      43.534518  \n...                          ...                        ...            ...  \n783822                         0                          0      25.498127  \n784030                         0                          0      27.930641  \n784033                         0                          0      20.793637  \n784035                         0                          0      16.012804  \n784069                         0                          0      42.149055  \n\n[401638 rows x 24 columns]",
      "text/html": "<div>\n<style scoped>\n    .dataframe tbody tr th:only-of-type {\n        vertical-align: middle;\n    }\n\n    .dataframe tbody tr th {\n        vertical-align: top;\n    }\n\n    .dataframe thead th {\n        text-align: right;\n    }\n</style>\n<table border=\"1\" class=\"dataframe\">\n  <thead>\n    <tr style=\"text-align: right;\">\n      <th></th>\n      <th>id</th>\n      <th>host_identity_verified</th>\n      <th>neighbourhood</th>\n      <th>property_type</th>\n      <th>room_type</th>\n      <th>accommodates</th>\n      <th>bathrooms</th>\n      <th>bedrooms</th>\n      <th>beds</th>\n      <th>amenities</th>\n      <th>...</th>\n      <th>calculated_host_listings_count</th>\n      <th>reviews_per_month</th>\n      <th>availability_365</th>\n      <th>host_identity_verified_encoded</th>\n      <th>room_type_encoded</th>\n      <th>property_type_encoded</th>\n      <th>neighbourhood_encoded</th>\n      <th>has_availability_encoded</th>\n      <th>host_is_superhost_encoded</th>\n      <th>amenities_sum</th>\n    </tr>\n  </thead>\n  <tbody>\n    <tr>\n      <th>0</th>\n      <td>17878</td>\n      <td>True</td>\n      <td>Copacabana</td>\n      <td>Condominium</td>\n      <td>Entire home/apt</td>\n      <td>5</td>\n      <td>1.0</td>\n      <td>2.0</td>\n      <td>2.0</td>\n      <td>{TV,\"Cable TV\",Internet,Wifi,\"Air conditioning...</td>\n      <td>...</td>\n      <td>1.0</td>\n      <td>2.16</td>\n      <td>309.0</td>\n      <td>0</td>\n      <td>1</td>\n      <td>15</td>\n      <td>24</td>\n      <td>0</td>\n      <td>0</td>\n      <td>41.764552</td>\n    </tr>\n    <tr>\n      <th>1</th>\n      <td>24480</td>\n      <td>True</td>\n      <td>Ipanema</td>\n      <td>Apartment</td>\n      <td>Entire home/apt</td>\n      <td>2</td>\n      <td>1.0</td>\n      <td>1.0</td>\n      <td>1.0</td>\n      <td>{TV,\"Cable TV\",Wifi,\"Air conditioning\",\"First ...</td>\n      <td>...</td>\n      <td>1.0</td>\n      <td>0.88</td>\n      <td>0.0</td>\n      <td>0</td>\n      <td>1</td>\n      <td>2</td>\n      <td>46</td>\n      <td>0</td>\n      <td>0</td>\n      <td>24.316472</td>\n    </tr>\n    <tr>\n      <th>2</th>\n      <td>25026</td>\n      <td>True</td>\n      <td>Copacabana</td>\n      <td>Apartment</td>\n      <td>Entire home/apt</td>\n      <td>3</td>\n      <td>1.0</td>\n      <td>1.0</td>\n      <td>2.0</td>\n      <td>{TV,\"Cable TV\",Internet,Wifi,\"Air conditioning...</td>\n      <td>...</td>\n      <td>3.0</td>\n      <td>2.15</td>\n      <td>335.0</td>\n      <td>0</td>\n      <td>1</td>\n      <td>2</td>\n      <td>24</td>\n      <td>0</td>\n      <td>0</td>\n      <td>28.619233</td>\n    </tr>\n    <tr>\n      <th>3</th>\n      <td>31560</td>\n      <td>True</td>\n      <td>Ipanema</td>\n      <td>Apartment</td>\n      <td>Entire home/apt</td>\n      <td>3</td>\n      <td>1.0</td>\n      <td>1.0</td>\n      <td>2.0</td>\n      <td>{TV,\"Cable TV\",Internet,Wifi,\"Air conditioning...</td>\n      <td>...</td>\n      <td>1.0</td>\n      <td>2.18</td>\n      <td>173.0</td>\n      <td>0</td>\n      <td>1</td>\n      <td>2</td>\n      <td>46</td>\n      <td>0</td>\n      <td>0</td>\n      <td>29.802090</td>\n    </tr>\n    <tr>\n      <th>4</th>\n      <td>35636</td>\n      <td>True</td>\n      <td>Ipanema</td>\n      <td>Apartment</td>\n      <td>Entire home/apt</td>\n      <td>3</td>\n      <td>1.5</td>\n      <td>1.0</td>\n      <td>2.0</td>\n      <td>{TV,\"Cable TV\",Internet,Wifi,\"Air conditioning...</td>\n      <td>...</td>\n      <td>1.0</td>\n      <td>2.08</td>\n      <td>144.0</td>\n      <td>0</td>\n      <td>1</td>\n      <td>2</td>\n      <td>46</td>\n      <td>0</td>\n      <td>0</td>\n      <td>43.534518</td>\n    </tr>\n    <tr>\n      <th>...</th>\n      <td>...</td>\n      <td>...</td>\n      <td>...</td>\n      <td>...</td>\n      <td>...</td>\n      <td>...</td>\n      <td>...</td>\n      <td>...</td>\n      <td>...</td>\n      <td>...</td>\n      <td>...</td>\n      <td>...</td>\n      <td>...</td>\n      <td>...</td>\n      <td>...</td>\n      <td>...</td>\n      <td>...</td>\n      <td>...</td>\n      <td>...</td>\n      <td>...</td>\n      <td>...</td>\n    </tr>\n    <tr>\n      <th>783822</th>\n      <td>43236463</td>\n      <td>True</td>\n      <td>Barra da Tijuca</td>\n      <td>Apartment</td>\n      <td>Entire home/apt</td>\n      <td>4</td>\n      <td>1.0</td>\n      <td>1.0</td>\n      <td>1.0</td>\n      <td>{TV,\"Air conditioning\",Pool,Kitchen,\"Free park...</td>\n      <td>...</td>\n      <td>1.0</td>\n      <td>2.00</td>\n      <td>86.0</td>\n      <td>0</td>\n      <td>1</td>\n      <td>2</td>\n      <td>4</td>\n      <td>0</td>\n      <td>0</td>\n      <td>25.498127</td>\n    </tr>\n    <tr>\n      <th>784030</th>\n      <td>43371775</td>\n      <td>True</td>\n      <td>Barra da Tijuca</td>\n      <td>Serviced apartment</td>\n      <td>Entire home/apt</td>\n      <td>2</td>\n      <td>1.0</td>\n      <td>1.0</td>\n      <td>2.0</td>\n      <td>{TV,Wifi,\"Air conditioning\",Pool,\"Free parking...</td>\n      <td>...</td>\n      <td>1.0</td>\n      <td>1.00</td>\n      <td>128.0</td>\n      <td>0</td>\n      <td>1</td>\n      <td>38</td>\n      <td>4</td>\n      <td>0</td>\n      <td>0</td>\n      <td>27.930641</td>\n    </tr>\n    <tr>\n      <th>784033</th>\n      <td>43381083</td>\n      <td>True</td>\n      <td>Vila Isabel</td>\n      <td>Apartment</td>\n      <td>Entire home/apt</td>\n      <td>4</td>\n      <td>2.0</td>\n      <td>2.0</td>\n      <td>2.0</td>\n      <td>{TV,\"Air conditioning\",Kitchen,Elevator,\"Free ...</td>\n      <td>...</td>\n      <td>2.0</td>\n      <td>3.00</td>\n      <td>150.0</td>\n      <td>0</td>\n      <td>1</td>\n      <td>2</td>\n      <td>99</td>\n      <td>0</td>\n      <td>0</td>\n      <td>20.793637</td>\n    </tr>\n    <tr>\n      <th>784035</th>\n      <td>43381600</td>\n      <td>True</td>\n      <td>Copacabana</td>\n      <td>Apartment</td>\n      <td>Entire home/apt</td>\n      <td>4</td>\n      <td>1.0</td>\n      <td>0.0</td>\n      <td>1.0</td>\n      <td>{TV,Wifi,\"Air conditioning\",Kitchen,Essentials...</td>\n      <td>...</td>\n      <td>1.0</td>\n      <td>2.00</td>\n      <td>60.0</td>\n      <td>0</td>\n      <td>1</td>\n      <td>2</td>\n      <td>24</td>\n      <td>0</td>\n      <td>0</td>\n      <td>16.012804</td>\n    </tr>\n    <tr>\n      <th>784069</th>\n      <td>43425307</td>\n      <td>True</td>\n      <td>Barra da Tijuca</td>\n      <td>Apartment</td>\n      <td>Entire home/apt</td>\n      <td>3</td>\n      <td>1.0</td>\n      <td>1.0</td>\n      <td>1.0</td>\n      <td>{TV,\"Cable TV\",Wifi,\"Air conditioning\",Pool,Ki...</td>\n      <td>...</td>\n      <td>1.0</td>\n      <td>1.00</td>\n      <td>79.0</td>\n      <td>0</td>\n      <td>1</td>\n      <td>2</td>\n      <td>4</td>\n      <td>0</td>\n      <td>0</td>\n      <td>42.149055</td>\n    </tr>\n  </tbody>\n</table>\n<p>401638 rows × 24 columns</p>\n</div>"
     },
     "execution_count": 42,
     "metadata": {},
     "output_type": "execute_result"
    }
   ],
   "source": [
    "features = (data.drop('price', axis=1).drop('property_type', axis=1).drop('room_type', axis=1).drop('neighbourhood', axis=1)\n",
    "            .drop('has_availability', axis=1).drop('host_identity_verified', axis=1).drop('id', axis=1).drop('amenities', axis=1).values)\n",
    "prediction = data['price'].values\n",
    "data"
   ],
   "metadata": {
    "collapsed": false,
    "ExecuteTime": {
     "end_time": "2023-10-18T03:59:46.061904200Z",
     "start_time": "2023-10-18T03:59:45.414567600Z"
    }
   },
   "id": "2bfdbdcdbcb70f0"
  },
  {
   "cell_type": "code",
   "execution_count": 43,
   "outputs": [],
   "source": [
    "x_train, x_test, y_train, y_test = train_test_split(features, prediction, test_size=0.33, random_state=42)\n",
    "ss = StandardScaler()\n",
    "x_train = ss.fit_transform(x_train.astype(float))\n",
    "x_test = ss.transform(x_test.astype(float))"
   ],
   "metadata": {
    "collapsed": false,
    "ExecuteTime": {
     "end_time": "2023-10-18T03:59:49.360977600Z",
     "start_time": "2023-10-18T03:59:48.878002500Z"
    }
   },
   "id": "c30ecbbafe635f6"
  },
  {
   "cell_type": "code",
   "execution_count": 45,
   "outputs": [
    {
     "name": "stdout",
     "output_type": "stream",
     "text": [
      "Epoch 1/10\n",
      "8410/8410 [==============================] - 9s 1ms/step - loss: 862158.8125 - mean_absolute_error: 368.7479 - val_loss: 894860.9375 - val_mean_absolute_error: 366.0117\n",
      "Epoch 2/10\n",
      "8410/8410 [==============================] - 9s 1ms/step - loss: 847218.3125 - mean_absolute_error: 361.1468 - val_loss: 880641.6250 - val_mean_absolute_error: 358.5654\n",
      "Epoch 3/10\n",
      "8410/8410 [==============================] - 9s 1ms/step - loss: 833491.3750 - mean_absolute_error: 353.6869 - val_loss: 867610.6250 - val_mean_absolute_error: 351.2788\n",
      "Epoch 4/10\n",
      "8410/8410 [==============================] - 8s 1ms/step - loss: 820996.5000 - mean_absolute_error: 346.4023 - val_loss: 855688.5625 - val_mean_absolute_error: 344.1756\n",
      "Epoch 5/10\n",
      "8410/8410 [==============================] - 8s 1ms/step - loss: 809557.1875 - mean_absolute_error: 339.3237 - val_loss: 844766.5000 - val_mean_absolute_error: 337.2929\n",
      "Epoch 6/10\n",
      "8410/8410 [==============================] - 8s 1ms/step - loss: 799004.2500 - mean_absolute_error: 332.4480 - val_loss: 834818.8125 - val_mean_absolute_error: 330.6419\n",
      "Epoch 7/10\n",
      "8410/8410 [==============================] - 8s 997us/step - loss: 789470.8125 - mean_absolute_error: 325.8587 - val_loss: 825651.0000 - val_mean_absolute_error: 324.2666\n",
      "Epoch 8/10\n",
      "8410/8410 [==============================] - 9s 1ms/step - loss: 780707.1250 - mean_absolute_error: 319.5662 - val_loss: 817314.5625 - val_mean_absolute_error: 318.2408\n",
      "Epoch 9/10\n",
      "8410/8410 [==============================] - 8s 1ms/step - loss: 772650.8750 - mean_absolute_error: 313.6416 - val_loss: 809625.2500 - val_mean_absolute_error: 312.5084\n",
      "Epoch 10/10\n",
      "8410/8410 [==============================] - 8s 995us/step - loss: 765309.2500 - mean_absolute_error: 308.0118 - val_loss: 802567.8750 - val_mean_absolute_error: 307.0959\n",
      "--- 0:01:25.399296 minutes ---\n",
      "Model: \"model_5\"\n",
      "_________________________________________________________________\n",
      " Layer (type)                Output Shape              Param #   \n",
      "=================================================================\n",
      " input_6 (InputLayer)        [(None, 15)]              0         \n",
      "                                                                 \n",
      " dense_5 (Dense)             (None, 1)                 16        \n",
      "                                                                 \n",
      "=================================================================\n",
      "Total params: 16 (64.00 Byte)\n",
      "Trainable params: 16 (64.00 Byte)\n",
      "Non-trainable params: 0 (0.00 Byte)\n",
      "_________________________________________________________________\n"
     ]
    }
   ],
   "source": [
    "inputs = keras.Input(shape=(15,))\n",
    "outputs = keras.layers.Dense(1)(inputs)\n",
    "model = keras.Model(inputs, outputs)\n",
    "model.compile(optimizer=keras.optimizers.Nadam(), loss=[keras.losses.MeanSquaredError()], metrics=[keras.metrics.MeanAbsoluteError()])\n",
    "\n",
    "start_time = time.time()\n",
    "history = model.fit(x_train, y_train, epochs=10, batch_size=32, validation_data=(x_test, y_test))\n",
    "print(\"--- %s minutes ---\" % datetime.timedelta(seconds=(time.time() - start_time)))\n",
    "model.summary()"
   ],
   "metadata": {
    "collapsed": false,
    "ExecuteTime": {
     "end_time": "2023-10-18T04:01:23.746132200Z",
     "start_time": "2023-10-18T03:59:58.322628200Z"
    }
   },
   "id": "ceda41493b7b0f87"
  },
  {
   "cell_type": "code",
   "execution_count": 46,
   "outputs": [
    {
     "name": "stdout",
     "output_type": "stream",
     "text": [
      "4142/4142 [==============================] - 2s 579us/step\n"
     ]
    },
    {
     "data": {
      "text/plain": "array([[  16.725334],\n       [  71.250626],\n       [-104.26866 ],\n       ...,\n       [ 232.87099 ],\n       [  50.10293 ],\n       [  55.511543]], dtype=float32)"
     },
     "execution_count": 46,
     "metadata": {},
     "output_type": "execute_result"
    }
   ],
   "source": [
    "model.predict(x_test)"
   ],
   "metadata": {
    "collapsed": false,
    "ExecuteTime": {
     "end_time": "2023-10-18T04:01:28.418436700Z",
     "start_time": "2023-10-18T04:01:24.931970500Z"
    }
   },
   "id": "d69dbd4d66703c0e"
  },
  {
   "cell_type": "code",
   "execution_count": 47,
   "outputs": [
    {
     "data": {
      "text/plain": "array([200., 149., 150., ..., 802., 193., 132.])"
     },
     "execution_count": 47,
     "metadata": {},
     "output_type": "execute_result"
    }
   ],
   "source": [
    "y_test"
   ],
   "metadata": {
    "collapsed": false,
    "ExecuteTime": {
     "end_time": "2023-10-18T04:01:30.462252100Z",
     "start_time": "2023-10-18T04:01:30.454561800Z"
    }
   },
   "id": "4f349af1142c0043"
  },
  {
   "cell_type": "code",
   "execution_count": null,
   "outputs": [],
   "source": [
    "plt.plot(history.history['mean_absolute_error'])\n",
    "plt.plot(history.history['val_mean_absolute_error'])\n",
    "plt.title('model accuracy')\n",
    "plt.ylabel('precisão')\n",
    "plt.xlabel('geração')\n",
    "plt.legend(['train', 'test'], loc='upper left')"
   ],
   "metadata": {
    "collapsed": false,
    "ExecuteTime": {
     "start_time": "2023-10-18T03:56:35.115058900Z"
    }
   },
   "id": "a7121d97375c4613"
  },
  {
   "cell_type": "code",
   "execution_count": null,
   "outputs": [],
   "source": [
    "plt.plot(history.history['loss'])\n",
    "plt.plot(history.history['val_loss'])\n",
    "plt.title('model loss')\n",
    "plt.ylabel('perda')\n",
    "plt.xlabel('gerações')\n",
    "plt.legend(['train', 'test'], loc='upper left')"
   ],
   "metadata": {
    "collapsed": false,
    "ExecuteTime": {
     "start_time": "2023-10-18T03:56:35.117056Z"
    }
   },
   "id": "e5a003cc65ea05c6"
  },
  {
   "cell_type": "code",
   "execution_count": null,
   "outputs": [],
   "source": [
    "y_test\n",
    "model.predict(x_test)"
   ],
   "metadata": {
    "collapsed": false,
    "ExecuteTime": {
     "start_time": "2023-10-18T03:56:35.118056700Z"
    }
   },
   "id": "a20e5feec5591ca2"
  }
 ],
 "metadata": {
  "kernelspec": {
   "display_name": "Python 3",
   "language": "python",
   "name": "python3"
  },
  "language_info": {
   "codemirror_mode": {
    "name": "ipython",
    "version": 2
   },
   "file_extension": ".py",
   "mimetype": "text/x-python",
   "name": "python",
   "nbconvert_exporter": "python",
   "pygments_lexer": "ipython2",
   "version": "2.7.6"
  }
 },
 "nbformat": 4,
 "nbformat_minor": 5
}
