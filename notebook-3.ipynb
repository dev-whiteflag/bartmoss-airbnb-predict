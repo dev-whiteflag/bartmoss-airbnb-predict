{
 "cells": [
  {
   "cell_type": "code",
   "execution_count": 69,
   "id": "initial_id",
   "metadata": {
    "collapsed": true,
    "ExecuteTime": {
     "end_time": "2023-10-18T21:19:07.301189300Z",
     "start_time": "2023-10-18T21:19:07.297132400Z"
    }
   },
   "outputs": [],
   "source": [
    "import keras\n",
    "import time\n",
    "import datetime\n",
    "import pandas as pd\n",
    "from sklearn.preprocessing import LabelEncoder\n",
    "from sklearn.model_selection import train_test_split\n",
    "from sklearn.preprocessing import StandardScaler\n",
    "from sklearn.preprocessing import MinMaxScaler\n",
    "import tensorflow as tf\n",
    "import numpy as np\n",
    "import seaborn as sns\n",
    "import matplotlib.pyplot as plt\n",
    "\n",
    "pd.set_option('display.max_columns', 20)\n",
    "pd.set_option('display.max_rows', 20)"
   ]
  },
  {
   "cell_type": "code",
   "execution_count": 2,
   "outputs": [
    {
     "name": "stderr",
     "output_type": "stream",
     "text": [
      "C:\\Users\\first\\AppData\\Local\\Temp\\ipykernel_19784\\420986748.py:2: DtypeWarning: Columns (1,17,19,20,28,33,34,54,62,63,66,68,69,88) have mixed types. Specify dtype option on import or set low_memory=False.\n",
      "  data = pd.read_csv('total_data.csv')\n"
     ]
    },
    {
     "name": "stdout",
     "output_type": "stream",
     "text": [
      "zipcode, Num de valores NaN: 40634\n",
      "property_type, Num de valores NaN: 1\n",
      "room_type, Num de valores NaN: 1\n",
      "accommodates, Num de valores NaN: 1\n",
      "amenities, Num de valores NaN: 1\n",
      "bathrooms, Num de valores NaN: 1494\n",
      "bedrooms, Num de valores NaN: 776\n",
      "beds, Num de valores NaN: 2335\n",
      "bed_type, Num de valores NaN: 1\n",
      "price, Num de valores NaN: 1\n",
      "minimum_nights, Num de valores NaN: 1\n",
      "availability_30, Num de valores NaN: 1\n",
      "number_of_reviews, Num de valores NaN: 1\n",
      "review_scores_rating, Num de valores NaN: 384939\n",
      "calculated_host_listings_count, Num de valores NaN: 2\n"
     ]
    }
   ],
   "source": [
    "# 1. Leitura dos Dados\n",
    "data = pd.read_csv('total_data.csv')\n",
    "data = data[[\"zipcode\", \"property_type\", \"room_type\", \"accommodates\", \"amenities\", \"bathrooms\", \"bedrooms\", \"beds\", \"bed_type\", \"price\", \"minimum_nights\", \"availability_30\", \"number_of_reviews\", \"review_scores_rating\", \"calculated_host_listings_count\"]]\n",
    "\n",
    "# 1.1 Detecção de colunas com NaN\n",
    "for col in data.columns:\n",
    "    print (col + ', Num de valores NaN:', len(data[col][data[col].isnull()]))"
   ],
   "metadata": {
    "collapsed": false,
    "ExecuteTime": {
     "end_time": "2023-10-18T20:16:31.010720100Z",
     "start_time": "2023-10-18T20:16:02.875634500Z"
    }
   },
   "id": "b5874925e73305a2"
  },
  {
   "cell_type": "code",
   "execution_count": 3,
   "outputs": [],
   "source": [
    "# 2. Limpeza e Encoding\n",
    "le = LabelEncoder()\n",
    "data = data.dropna(how='any', subset=['zipcode', 'property_type', 'room_type', 'accommodates', 'amenities', 'bedrooms', 'beds', 'bathrooms', 'bed_type', 'price', 'minimum_nights',\n",
    "                                      'availability_30', 'number_of_reviews', 'review_scores_rating', 'calculated_host_listings_count'])\n",
    "data['room_type_encoded'] = le.fit_transform(data['room_type'])\n",
    "data['property_type_encoded'] = le.fit_transform(data['property_type'])\n",
    "data['bed_type_encoded'] = le.fit_transform(data['bed_type'])\n",
    "data['price'] = data['price'].replace('[\\$,]', '', regex=True)\n",
    "data['price'] = data['price'].astype(float)\n",
    "data['minimum_nights'] = data['minimum_nights'].astype(int);\n",
    "\n",
    "# Remove os valores zerados\n",
    "data = data[data['accommodates'] != 0]\n",
    "data = data[data['bedrooms'] != 0]\n",
    "data = data[data['beds'] != 0]\n",
    "data = data[data['price'] != 0.00]\n",
    "\n",
    "# Remove os outliers de alguns campos\n",
    "data['zipcode'] = data['zipcode'].str.replace(r'-\\d+', '')\n",
    "data['zipcode_encoded'] = le.fit_transform(data['zipcode'])\n",
    "data.drop(data[data['minimum_nights'] > 30].index, axis=0, inplace=True)\n",
    "data.drop(data[data['minimum_nights'] < 1].index, axis=0, inplace=True)\n",
    "data.drop(data[data[\"calculated_host_listings_count\"] < 1].index, axis=0, inplace=True)"
   ],
   "metadata": {
    "collapsed": false,
    "ExecuteTime": {
     "end_time": "2023-10-18T20:16:32.085132800Z",
     "start_time": "2023-10-18T20:16:31.007722300Z"
    }
   },
   "id": "6766df671c5eedc4"
  },
  {
   "cell_type": "code",
   "execution_count": 4,
   "outputs": [],
   "source": [
    "# 2.1 Encoding das Comodidades\n",
    "# Transforma as comodidades em um dataframe relacionado com o preço das listagens\n",
    "amenities = (data['amenities'].str.strip('{}').str.get_dummies(',').rename(columns= lambda x: x.strip('\"')))\n",
    "dataAmenities = pd.DataFrame(data['price']).join(amenities)"
   ],
   "metadata": {
    "collapsed": false,
    "ExecuteTime": {
     "end_time": "2023-10-18T20:16:55.666711300Z",
     "start_time": "2023-10-18T20:16:32.087130800Z"
    }
   },
   "id": "2b09bd2c91cf398"
  },
  {
   "cell_type": "code",
   "execution_count": 5,
   "outputs": [],
   "source": [
    "# 2.2 Matriz de Correlação -> Coeficientes\n",
    "# Converte a matrix de correlação criada usando o dataframe em coeficientes lineares\n",
    "corr = dataAmenities.corr()\n",
    "attrPriceCoeffs = corr['price'].drop('price')\n",
    "attrPriceCoeffsVal = attrPriceCoeffs.values.reshape(-1, 1)\n",
    "scaler = MinMaxScaler()\n",
    "attrPriceCoeffsNorm = scaler.fit_transform(attrPriceCoeffsVal)"
   ],
   "metadata": {
    "collapsed": false,
    "ExecuteTime": {
     "end_time": "2023-10-18T20:17:12.494200200Z",
     "start_time": "2023-10-18T20:16:55.668712100Z"
    }
   },
   "id": "c80f9fe5b1f60281"
  },
  {
   "cell_type": "code",
   "execution_count": 6,
   "outputs": [
    {
     "data": {
      "text/plain": "          zipcode       property_type        room_type accommodates  \\\n0       22020-050         Condominium  Entire home/apt            5   \n1       22411-010           Apartment  Entire home/apt            2   \n2       22060-020           Apartment  Entire home/apt            3   \n3       22410-003           Apartment  Entire home/apt            3   \n4       22081-020           Apartment  Entire home/apt            3   \n...           ...                 ...              ...          ...   \n783759  20230-180           Apartment  Entire home/apt            2   \n783814  22775-033                Loft  Entire home/apt            2   \n783822  22630-011           Apartment  Entire home/apt            4   \n784030  22631-000  Serviced apartment  Entire home/apt            2   \n784069  22783-115           Apartment  Entire home/apt            3   \n\n                                                amenities  bathrooms  \\\n0       {TV,\"Cable TV\",Internet,Wifi,\"Air conditioning...        1.0   \n1       {TV,\"Cable TV\",Wifi,\"Air conditioning\",\"First ...        1.0   \n2       {TV,\"Cable TV\",Internet,Wifi,\"Air conditioning...        1.0   \n3       {TV,\"Cable TV\",Internet,Wifi,\"Air conditioning...        1.0   \n4       {TV,\"Cable TV\",Internet,Wifi,\"Air conditioning...        1.5   \n...                                                   ...        ...   \n783759  {TV,Wifi,\"Air conditioning\",\"Free parking on p...        1.0   \n783814  {TV,Wifi,\"Air conditioning\",Pool,Kitchen,\"Free...        1.0   \n783822  {TV,\"Air conditioning\",Pool,Kitchen,\"Free park...        1.0   \n784030  {TV,Wifi,\"Air conditioning\",Pool,\"Free parking...        1.0   \n784069  {TV,\"Cable TV\",Wifi,\"Air conditioning\",Pool,Ki...        1.0   \n\n        bedrooms  beds  bed_type   price  minimum_nights  availability_30  \\\n0            2.0   2.0  Real Bed   307.0               4              0.0   \n1            1.0   1.0  Real Bed   233.0               3              0.0   \n2            1.0   2.0  Real Bed   159.0               4             11.0   \n3            1.0   2.0  Real Bed   253.0               2              0.0   \n4            1.0   2.0  Real Bed   350.0               2              8.0   \n...          ...   ...       ...     ...             ...              ...   \n783759       1.0   1.0  Real Bed  7367.0               1             26.0   \n783814       1.0   1.0  Real Bed   200.0               1              1.0   \n783822       1.0   1.0  Real Bed   302.0               1             26.0   \n784030       1.0   2.0  Real Bed   148.0               1              0.0   \n784069       1.0   1.0  Real Bed   110.0               2             19.0   \n\n        number_of_reviews  review_scores_rating  \\\n0                   213.0                  93.0   \n1                    85.0                  95.0   \n2                   214.0                  94.0   \n3                   215.0                  96.0   \n4                   122.0                  94.0   \n...                   ...                   ...   \n783759                1.0                  60.0   \n783814                2.0                 100.0   \n783822                2.0                 100.0   \n784030                1.0                 100.0   \n784069                1.0                 100.0   \n\n        calculated_host_listings_count  room_type_encoded  \\\n0                                  1.0                  0   \n1                                  1.0                  0   \n2                                  3.0                  0   \n3                                  1.0                  0   \n4                                  1.0                  0   \n...                                ...                ...   \n783759                           324.0                  0   \n783814                             2.0                  0   \n783822                             1.0                  0   \n784030                             1.0                  0   \n784069                             1.0                  0   \n\n        property_type_encoded  bed_type_encoded  zipcode_encoded  \\\n0                          12                 4             1180   \n1                           1                 4             1920   \n2                           1                 4             1347   \n3                           1                 4             1895   \n4                           1                 4             1443   \n...                       ...               ...              ...   \n783759                      1                 4              161   \n783814                     27                 4             2708   \n783822                      1                 4             2412   \n784030                     31                 4             2435   \n784069                      1                 4             2824   \n\n        amenities_sum  \n0           11.544701  \n1            6.938440  \n2            8.252369  \n3            8.518424  \n4           12.437025  \n...               ...  \n783759       5.363225  \n783814       6.440949  \n783822       6.702343  \n784030       7.738064  \n784069      11.459386  \n\n[350706 rows x 20 columns]",
      "text/html": "<div>\n<style scoped>\n    .dataframe tbody tr th:only-of-type {\n        vertical-align: middle;\n    }\n\n    .dataframe tbody tr th {\n        vertical-align: top;\n    }\n\n    .dataframe thead th {\n        text-align: right;\n    }\n</style>\n<table border=\"1\" class=\"dataframe\">\n  <thead>\n    <tr style=\"text-align: right;\">\n      <th></th>\n      <th>zipcode</th>\n      <th>property_type</th>\n      <th>room_type</th>\n      <th>accommodates</th>\n      <th>amenities</th>\n      <th>bathrooms</th>\n      <th>bedrooms</th>\n      <th>beds</th>\n      <th>bed_type</th>\n      <th>price</th>\n      <th>minimum_nights</th>\n      <th>availability_30</th>\n      <th>number_of_reviews</th>\n      <th>review_scores_rating</th>\n      <th>calculated_host_listings_count</th>\n      <th>room_type_encoded</th>\n      <th>property_type_encoded</th>\n      <th>bed_type_encoded</th>\n      <th>zipcode_encoded</th>\n      <th>amenities_sum</th>\n    </tr>\n  </thead>\n  <tbody>\n    <tr>\n      <th>0</th>\n      <td>22020-050</td>\n      <td>Condominium</td>\n      <td>Entire home/apt</td>\n      <td>5</td>\n      <td>{TV,\"Cable TV\",Internet,Wifi,\"Air conditioning...</td>\n      <td>1.0</td>\n      <td>2.0</td>\n      <td>2.0</td>\n      <td>Real Bed</td>\n      <td>307.0</td>\n      <td>4</td>\n      <td>0.0</td>\n      <td>213.0</td>\n      <td>93.0</td>\n      <td>1.0</td>\n      <td>0</td>\n      <td>12</td>\n      <td>4</td>\n      <td>1180</td>\n      <td>11.544701</td>\n    </tr>\n    <tr>\n      <th>1</th>\n      <td>22411-010</td>\n      <td>Apartment</td>\n      <td>Entire home/apt</td>\n      <td>2</td>\n      <td>{TV,\"Cable TV\",Wifi,\"Air conditioning\",\"First ...</td>\n      <td>1.0</td>\n      <td>1.0</td>\n      <td>1.0</td>\n      <td>Real Bed</td>\n      <td>233.0</td>\n      <td>3</td>\n      <td>0.0</td>\n      <td>85.0</td>\n      <td>95.0</td>\n      <td>1.0</td>\n      <td>0</td>\n      <td>1</td>\n      <td>4</td>\n      <td>1920</td>\n      <td>6.938440</td>\n    </tr>\n    <tr>\n      <th>2</th>\n      <td>22060-020</td>\n      <td>Apartment</td>\n      <td>Entire home/apt</td>\n      <td>3</td>\n      <td>{TV,\"Cable TV\",Internet,Wifi,\"Air conditioning...</td>\n      <td>1.0</td>\n      <td>1.0</td>\n      <td>2.0</td>\n      <td>Real Bed</td>\n      <td>159.0</td>\n      <td>4</td>\n      <td>11.0</td>\n      <td>214.0</td>\n      <td>94.0</td>\n      <td>3.0</td>\n      <td>0</td>\n      <td>1</td>\n      <td>4</td>\n      <td>1347</td>\n      <td>8.252369</td>\n    </tr>\n    <tr>\n      <th>3</th>\n      <td>22410-003</td>\n      <td>Apartment</td>\n      <td>Entire home/apt</td>\n      <td>3</td>\n      <td>{TV,\"Cable TV\",Internet,Wifi,\"Air conditioning...</td>\n      <td>1.0</td>\n      <td>1.0</td>\n      <td>2.0</td>\n      <td>Real Bed</td>\n      <td>253.0</td>\n      <td>2</td>\n      <td>0.0</td>\n      <td>215.0</td>\n      <td>96.0</td>\n      <td>1.0</td>\n      <td>0</td>\n      <td>1</td>\n      <td>4</td>\n      <td>1895</td>\n      <td>8.518424</td>\n    </tr>\n    <tr>\n      <th>4</th>\n      <td>22081-020</td>\n      <td>Apartment</td>\n      <td>Entire home/apt</td>\n      <td>3</td>\n      <td>{TV,\"Cable TV\",Internet,Wifi,\"Air conditioning...</td>\n      <td>1.5</td>\n      <td>1.0</td>\n      <td>2.0</td>\n      <td>Real Bed</td>\n      <td>350.0</td>\n      <td>2</td>\n      <td>8.0</td>\n      <td>122.0</td>\n      <td>94.0</td>\n      <td>1.0</td>\n      <td>0</td>\n      <td>1</td>\n      <td>4</td>\n      <td>1443</td>\n      <td>12.437025</td>\n    </tr>\n    <tr>\n      <th>...</th>\n      <td>...</td>\n      <td>...</td>\n      <td>...</td>\n      <td>...</td>\n      <td>...</td>\n      <td>...</td>\n      <td>...</td>\n      <td>...</td>\n      <td>...</td>\n      <td>...</td>\n      <td>...</td>\n      <td>...</td>\n      <td>...</td>\n      <td>...</td>\n      <td>...</td>\n      <td>...</td>\n      <td>...</td>\n      <td>...</td>\n      <td>...</td>\n      <td>...</td>\n    </tr>\n    <tr>\n      <th>783759</th>\n      <td>20230-180</td>\n      <td>Apartment</td>\n      <td>Entire home/apt</td>\n      <td>2</td>\n      <td>{TV,Wifi,\"Air conditioning\",\"Free parking on p...</td>\n      <td>1.0</td>\n      <td>1.0</td>\n      <td>1.0</td>\n      <td>Real Bed</td>\n      <td>7367.0</td>\n      <td>1</td>\n      <td>26.0</td>\n      <td>1.0</td>\n      <td>60.0</td>\n      <td>324.0</td>\n      <td>0</td>\n      <td>1</td>\n      <td>4</td>\n      <td>161</td>\n      <td>5.363225</td>\n    </tr>\n    <tr>\n      <th>783814</th>\n      <td>22775-033</td>\n      <td>Loft</td>\n      <td>Entire home/apt</td>\n      <td>2</td>\n      <td>{TV,Wifi,\"Air conditioning\",Pool,Kitchen,\"Free...</td>\n      <td>1.0</td>\n      <td>1.0</td>\n      <td>1.0</td>\n      <td>Real Bed</td>\n      <td>200.0</td>\n      <td>1</td>\n      <td>1.0</td>\n      <td>2.0</td>\n      <td>100.0</td>\n      <td>2.0</td>\n      <td>0</td>\n      <td>27</td>\n      <td>4</td>\n      <td>2708</td>\n      <td>6.440949</td>\n    </tr>\n    <tr>\n      <th>783822</th>\n      <td>22630-011</td>\n      <td>Apartment</td>\n      <td>Entire home/apt</td>\n      <td>4</td>\n      <td>{TV,\"Air conditioning\",Pool,Kitchen,\"Free park...</td>\n      <td>1.0</td>\n      <td>1.0</td>\n      <td>1.0</td>\n      <td>Real Bed</td>\n      <td>302.0</td>\n      <td>1</td>\n      <td>26.0</td>\n      <td>2.0</td>\n      <td>100.0</td>\n      <td>1.0</td>\n      <td>0</td>\n      <td>1</td>\n      <td>4</td>\n      <td>2412</td>\n      <td>6.702343</td>\n    </tr>\n    <tr>\n      <th>784030</th>\n      <td>22631-000</td>\n      <td>Serviced apartment</td>\n      <td>Entire home/apt</td>\n      <td>2</td>\n      <td>{TV,Wifi,\"Air conditioning\",Pool,\"Free parking...</td>\n      <td>1.0</td>\n      <td>1.0</td>\n      <td>2.0</td>\n      <td>Real Bed</td>\n      <td>148.0</td>\n      <td>1</td>\n      <td>0.0</td>\n      <td>1.0</td>\n      <td>100.0</td>\n      <td>1.0</td>\n      <td>0</td>\n      <td>31</td>\n      <td>4</td>\n      <td>2435</td>\n      <td>7.738064</td>\n    </tr>\n    <tr>\n      <th>784069</th>\n      <td>22783-115</td>\n      <td>Apartment</td>\n      <td>Entire home/apt</td>\n      <td>3</td>\n      <td>{TV,\"Cable TV\",Wifi,\"Air conditioning\",Pool,Ki...</td>\n      <td>1.0</td>\n      <td>1.0</td>\n      <td>1.0</td>\n      <td>Real Bed</td>\n      <td>110.0</td>\n      <td>2</td>\n      <td>19.0</td>\n      <td>1.0</td>\n      <td>100.0</td>\n      <td>1.0</td>\n      <td>0</td>\n      <td>1</td>\n      <td>4</td>\n      <td>2824</td>\n      <td>11.459386</td>\n    </tr>\n  </tbody>\n</table>\n<p>350706 rows × 20 columns</p>\n</div>"
     },
     "execution_count": 6,
     "metadata": {},
     "output_type": "execute_result"
    }
   ],
   "source": [
    "# 2.3 Coeficientes escalares -> somatória ponderada das comodidades\n",
    "coeffs = pd.DataFrame(attrPriceCoeffsNorm)\n",
    "coeffs.set_index(attrPriceCoeffs.keys(), inplace=True)\n",
    "coeffs.rename(columns= lambda  x: 'price', inplace=True)\n",
    "coeffs.rename(str.lower, axis='index', inplace=True)\n",
    "dataAmenities.rename(columns= lambda x: x.lower(), inplace=True)\n",
    "dataAmenities = dataAmenities.drop('price', axis=1)\n",
    "\n",
    "# Faz a somatória dos valores do dataframe multiplicado pelos coeficientes\n",
    "dataAmenities['sum'] = (dataAmenities * coeffs['price']).sum(1)\n",
    "data['amenities_sum'] = dataAmenities['sum']\n",
    "\n",
    "data"
   ],
   "metadata": {
    "collapsed": false,
    "ExecuteTime": {
     "end_time": "2023-10-18T20:17:12.870870900Z",
     "start_time": "2023-10-18T20:17:12.497205200Z"
    }
   },
   "id": "5ba5db452bdc7916"
  },
  {
   "cell_type": "code",
   "execution_count": 7,
   "outputs": [],
   "source": [
    "# 2.4 Categorização do valor das reviews por listagem\n",
    "def convert_scores_categ(val):\n",
    "    if val == 'Sem Reviews':\n",
    "        return 'Sem Reviews'\n",
    "    elif val >= 95.0:\n",
    "        return '95-100'\n",
    "    elif val >= 90.0 and val < 95.0:\n",
    "        return '90-94'\n",
    "    elif val >= 85.0 and val < 90.0:\n",
    "        return '85-89'\n",
    "    elif val >= 80.0 and val < 85.0:\n",
    "        return '80-84'\n",
    "    elif val >= 70.0 and val < 80.0:\n",
    "        return '70-79'\n",
    "    elif val >= 60.0 and val < 70.0:\n",
    "        return '60-69'\n",
    "    elif val >= 50.0 and val < 60.0:\n",
    "        return '50-59'\n",
    "    elif val >= 40.0 and val < 50.0:\n",
    "        return '40-49'\n",
    "    elif val >= 30.0 and val < 40.0:\n",
    "        return '30-39'\n",
    "    elif val >= 20.0 and val < 30.0:\n",
    "        return '20-29'\n",
    "    elif val >= 10.0 and val < 20.0:\n",
    "        return '10-19'\n",
    "    elif val < 10.0:\n",
    "        return '0-9'\n",
    "    \n",
    "data['review_scores_rating_encoded'] = data['review_scores_rating'].apply(convert_scores_categ)\n",
    "data['review_scores_rating_encoded'] = le.fit_transform(data['review_scores_rating_encoded'])"
   ],
   "metadata": {
    "collapsed": false,
    "ExecuteTime": {
     "end_time": "2023-10-18T20:17:12.982539900Z",
     "start_time": "2023-10-18T20:17:12.873383400Z"
    }
   },
   "id": "3da00e7f0a9de37"
  },
  {
   "cell_type": "code",
   "execution_count": 8,
   "outputs": [
    {
     "data": {
      "text/plain": "          zipcode       property_type        room_type  accommodates  \\\n0       22020-050         Condominium  Entire home/apt      0.351055   \n1       22411-010           Apartment  Entire home/apt     -0.797150   \n2       22060-020           Apartment  Entire home/apt     -0.414415   \n3       22410-003           Apartment  Entire home/apt     -0.414415   \n4       22081-020           Apartment  Entire home/apt     -0.414415   \n...           ...                 ...              ...           ...   \n783759  20230-180           Apartment  Entire home/apt     -0.797150   \n783814  22775-033                Loft  Entire home/apt     -0.797150   \n783822  22630-011           Apartment  Entire home/apt     -0.031680   \n784030  22631-000  Serviced apartment  Entire home/apt     -0.797150   \n784069  22783-115           Apartment  Entire home/apt     -0.414415   \n\n                                                amenities  bathrooms  \\\n0       {TV,\"Cable TV\",Internet,Wifi,\"Air conditioning...  -0.680223   \n1       {TV,\"Cable TV\",Wifi,\"Air conditioning\",\"First ...  -0.680223   \n2       {TV,\"Cable TV\",Internet,Wifi,\"Air conditioning...  -0.680223   \n3       {TV,\"Cable TV\",Internet,Wifi,\"Air conditioning...  -0.680223   \n4       {TV,\"Cable TV\",Internet,Wifi,\"Air conditioning...  -0.115993   \n...                                                   ...        ...   \n783759  {TV,Wifi,\"Air conditioning\",\"Free parking on p...  -0.680223   \n783814  {TV,Wifi,\"Air conditioning\",Pool,Kitchen,\"Free...  -0.680223   \n783822  {TV,\"Air conditioning\",Pool,Kitchen,\"Free park...  -0.680223   \n784030  {TV,Wifi,\"Air conditioning\",Pool,\"Free parking...  -0.680223   \n784069  {TV,\"Cable TV\",Wifi,\"Air conditioning\",Pool,Ki...  -0.680223   \n\n        bedrooms      beds  bed_type   price  ...  availability_30  \\\n0       0.407117 -0.292955  Real Bed   307.0  ...        -1.287868   \n1      -0.680834 -0.801487  Real Bed   233.0  ...        -1.287868   \n2      -0.680834 -0.292955  Real Bed   159.0  ...        -0.395597   \n3      -0.680834 -0.292955  Real Bed   253.0  ...        -1.287868   \n4      -0.680834 -0.292955  Real Bed   350.0  ...        -0.638944   \n...          ...       ...       ...     ...  ...              ...   \n783759 -0.680834 -0.801487  Real Bed  7367.0  ...         0.821135   \n783814 -0.680834 -0.801487  Real Bed   200.0  ...        -1.206752   \n783822 -0.680834 -0.801487  Real Bed   302.0  ...         0.821135   \n784030 -0.680834 -0.292955  Real Bed   148.0  ...        -1.287868   \n784069 -0.680834 -0.801487  Real Bed   110.0  ...         0.253327   \n\n        number_of_reviews  review_scores_rating  \\\n0                6.727588                  93.0   \n1                2.368734                  95.0   \n2                6.761641                  94.0   \n3                6.795695                  96.0   \n4                3.628715                  94.0   \n...                   ...                   ...   \n783759          -0.491764                  60.0   \n783814          -0.457710                 100.0   \n783822          -0.457710                 100.0   \n784030          -0.491764                 100.0   \n784069          -0.491764                 100.0   \n\n        calculated_host_listings_count  room_type_encoded  \\\n0                            -0.232058                  0   \n1                            -0.232058                  0   \n2                            -0.143814                  0   \n3                            -0.232058                  0   \n4                            -0.232058                  0   \n...                                ...                ...   \n783759                       14.019249                  0   \n783814                       -0.187936                  0   \n783822                       -0.232058                  0   \n784030                       -0.232058                  0   \n784069                       -0.232058                  0   \n\n        property_type_encoded  bed_type_encoded  zipcode_encoded  \\\n0                          12                 4             1180   \n1                           1                 4             1920   \n2                           1                 4             1347   \n3                           1                 4             1895   \n4                           1                 4             1443   \n...                       ...               ...              ...   \n783759                      1                 4              161   \n783814                     27                 4             2708   \n783822                      1                 4             2412   \n784030                     31                 4             2435   \n784069                      1                 4             2824   \n\n        amenities_sum  review_scores_rating_encoded  \n0            0.641107                             8  \n1           -0.614293                             9  \n2           -0.256192                             8  \n3           -0.183681                             9  \n4            0.884302                             8  \n...               ...                           ...  \n783759      -1.043605                             4  \n783814      -0.749880                             9  \n783822      -0.678639                             9  \n784030      -0.396362                             9  \n784069       0.617855                             9  \n\n[350706 rows x 21 columns]",
      "text/html": "<div>\n<style scoped>\n    .dataframe tbody tr th:only-of-type {\n        vertical-align: middle;\n    }\n\n    .dataframe tbody tr th {\n        vertical-align: top;\n    }\n\n    .dataframe thead th {\n        text-align: right;\n    }\n</style>\n<table border=\"1\" class=\"dataframe\">\n  <thead>\n    <tr style=\"text-align: right;\">\n      <th></th>\n      <th>zipcode</th>\n      <th>property_type</th>\n      <th>room_type</th>\n      <th>accommodates</th>\n      <th>amenities</th>\n      <th>bathrooms</th>\n      <th>bedrooms</th>\n      <th>beds</th>\n      <th>bed_type</th>\n      <th>price</th>\n      <th>...</th>\n      <th>availability_30</th>\n      <th>number_of_reviews</th>\n      <th>review_scores_rating</th>\n      <th>calculated_host_listings_count</th>\n      <th>room_type_encoded</th>\n      <th>property_type_encoded</th>\n      <th>bed_type_encoded</th>\n      <th>zipcode_encoded</th>\n      <th>amenities_sum</th>\n      <th>review_scores_rating_encoded</th>\n    </tr>\n  </thead>\n  <tbody>\n    <tr>\n      <th>0</th>\n      <td>22020-050</td>\n      <td>Condominium</td>\n      <td>Entire home/apt</td>\n      <td>0.351055</td>\n      <td>{TV,\"Cable TV\",Internet,Wifi,\"Air conditioning...</td>\n      <td>-0.680223</td>\n      <td>0.407117</td>\n      <td>-0.292955</td>\n      <td>Real Bed</td>\n      <td>307.0</td>\n      <td>...</td>\n      <td>-1.287868</td>\n      <td>6.727588</td>\n      <td>93.0</td>\n      <td>-0.232058</td>\n      <td>0</td>\n      <td>12</td>\n      <td>4</td>\n      <td>1180</td>\n      <td>0.641107</td>\n      <td>8</td>\n    </tr>\n    <tr>\n      <th>1</th>\n      <td>22411-010</td>\n      <td>Apartment</td>\n      <td>Entire home/apt</td>\n      <td>-0.797150</td>\n      <td>{TV,\"Cable TV\",Wifi,\"Air conditioning\",\"First ...</td>\n      <td>-0.680223</td>\n      <td>-0.680834</td>\n      <td>-0.801487</td>\n      <td>Real Bed</td>\n      <td>233.0</td>\n      <td>...</td>\n      <td>-1.287868</td>\n      <td>2.368734</td>\n      <td>95.0</td>\n      <td>-0.232058</td>\n      <td>0</td>\n      <td>1</td>\n      <td>4</td>\n      <td>1920</td>\n      <td>-0.614293</td>\n      <td>9</td>\n    </tr>\n    <tr>\n      <th>2</th>\n      <td>22060-020</td>\n      <td>Apartment</td>\n      <td>Entire home/apt</td>\n      <td>-0.414415</td>\n      <td>{TV,\"Cable TV\",Internet,Wifi,\"Air conditioning...</td>\n      <td>-0.680223</td>\n      <td>-0.680834</td>\n      <td>-0.292955</td>\n      <td>Real Bed</td>\n      <td>159.0</td>\n      <td>...</td>\n      <td>-0.395597</td>\n      <td>6.761641</td>\n      <td>94.0</td>\n      <td>-0.143814</td>\n      <td>0</td>\n      <td>1</td>\n      <td>4</td>\n      <td>1347</td>\n      <td>-0.256192</td>\n      <td>8</td>\n    </tr>\n    <tr>\n      <th>3</th>\n      <td>22410-003</td>\n      <td>Apartment</td>\n      <td>Entire home/apt</td>\n      <td>-0.414415</td>\n      <td>{TV,\"Cable TV\",Internet,Wifi,\"Air conditioning...</td>\n      <td>-0.680223</td>\n      <td>-0.680834</td>\n      <td>-0.292955</td>\n      <td>Real Bed</td>\n      <td>253.0</td>\n      <td>...</td>\n      <td>-1.287868</td>\n      <td>6.795695</td>\n      <td>96.0</td>\n      <td>-0.232058</td>\n      <td>0</td>\n      <td>1</td>\n      <td>4</td>\n      <td>1895</td>\n      <td>-0.183681</td>\n      <td>9</td>\n    </tr>\n    <tr>\n      <th>4</th>\n      <td>22081-020</td>\n      <td>Apartment</td>\n      <td>Entire home/apt</td>\n      <td>-0.414415</td>\n      <td>{TV,\"Cable TV\",Internet,Wifi,\"Air conditioning...</td>\n      <td>-0.115993</td>\n      <td>-0.680834</td>\n      <td>-0.292955</td>\n      <td>Real Bed</td>\n      <td>350.0</td>\n      <td>...</td>\n      <td>-0.638944</td>\n      <td>3.628715</td>\n      <td>94.0</td>\n      <td>-0.232058</td>\n      <td>0</td>\n      <td>1</td>\n      <td>4</td>\n      <td>1443</td>\n      <td>0.884302</td>\n      <td>8</td>\n    </tr>\n    <tr>\n      <th>...</th>\n      <td>...</td>\n      <td>...</td>\n      <td>...</td>\n      <td>...</td>\n      <td>...</td>\n      <td>...</td>\n      <td>...</td>\n      <td>...</td>\n      <td>...</td>\n      <td>...</td>\n      <td>...</td>\n      <td>...</td>\n      <td>...</td>\n      <td>...</td>\n      <td>...</td>\n      <td>...</td>\n      <td>...</td>\n      <td>...</td>\n      <td>...</td>\n      <td>...</td>\n      <td>...</td>\n    </tr>\n    <tr>\n      <th>783759</th>\n      <td>20230-180</td>\n      <td>Apartment</td>\n      <td>Entire home/apt</td>\n      <td>-0.797150</td>\n      <td>{TV,Wifi,\"Air conditioning\",\"Free parking on p...</td>\n      <td>-0.680223</td>\n      <td>-0.680834</td>\n      <td>-0.801487</td>\n      <td>Real Bed</td>\n      <td>7367.0</td>\n      <td>...</td>\n      <td>0.821135</td>\n      <td>-0.491764</td>\n      <td>60.0</td>\n      <td>14.019249</td>\n      <td>0</td>\n      <td>1</td>\n      <td>4</td>\n      <td>161</td>\n      <td>-1.043605</td>\n      <td>4</td>\n    </tr>\n    <tr>\n      <th>783814</th>\n      <td>22775-033</td>\n      <td>Loft</td>\n      <td>Entire home/apt</td>\n      <td>-0.797150</td>\n      <td>{TV,Wifi,\"Air conditioning\",Pool,Kitchen,\"Free...</td>\n      <td>-0.680223</td>\n      <td>-0.680834</td>\n      <td>-0.801487</td>\n      <td>Real Bed</td>\n      <td>200.0</td>\n      <td>...</td>\n      <td>-1.206752</td>\n      <td>-0.457710</td>\n      <td>100.0</td>\n      <td>-0.187936</td>\n      <td>0</td>\n      <td>27</td>\n      <td>4</td>\n      <td>2708</td>\n      <td>-0.749880</td>\n      <td>9</td>\n    </tr>\n    <tr>\n      <th>783822</th>\n      <td>22630-011</td>\n      <td>Apartment</td>\n      <td>Entire home/apt</td>\n      <td>-0.031680</td>\n      <td>{TV,\"Air conditioning\",Pool,Kitchen,\"Free park...</td>\n      <td>-0.680223</td>\n      <td>-0.680834</td>\n      <td>-0.801487</td>\n      <td>Real Bed</td>\n      <td>302.0</td>\n      <td>...</td>\n      <td>0.821135</td>\n      <td>-0.457710</td>\n      <td>100.0</td>\n      <td>-0.232058</td>\n      <td>0</td>\n      <td>1</td>\n      <td>4</td>\n      <td>2412</td>\n      <td>-0.678639</td>\n      <td>9</td>\n    </tr>\n    <tr>\n      <th>784030</th>\n      <td>22631-000</td>\n      <td>Serviced apartment</td>\n      <td>Entire home/apt</td>\n      <td>-0.797150</td>\n      <td>{TV,Wifi,\"Air conditioning\",Pool,\"Free parking...</td>\n      <td>-0.680223</td>\n      <td>-0.680834</td>\n      <td>-0.292955</td>\n      <td>Real Bed</td>\n      <td>148.0</td>\n      <td>...</td>\n      <td>-1.287868</td>\n      <td>-0.491764</td>\n      <td>100.0</td>\n      <td>-0.232058</td>\n      <td>0</td>\n      <td>31</td>\n      <td>4</td>\n      <td>2435</td>\n      <td>-0.396362</td>\n      <td>9</td>\n    </tr>\n    <tr>\n      <th>784069</th>\n      <td>22783-115</td>\n      <td>Apartment</td>\n      <td>Entire home/apt</td>\n      <td>-0.414415</td>\n      <td>{TV,\"Cable TV\",Wifi,\"Air conditioning\",Pool,Ki...</td>\n      <td>-0.680223</td>\n      <td>-0.680834</td>\n      <td>-0.801487</td>\n      <td>Real Bed</td>\n      <td>110.0</td>\n      <td>...</td>\n      <td>0.253327</td>\n      <td>-0.491764</td>\n      <td>100.0</td>\n      <td>-0.232058</td>\n      <td>0</td>\n      <td>1</td>\n      <td>4</td>\n      <td>2824</td>\n      <td>0.617855</td>\n      <td>9</td>\n    </tr>\n  </tbody>\n</table>\n<p>350706 rows × 21 columns</p>\n</div>"
     },
     "execution_count": 8,
     "metadata": {},
     "output_type": "execute_result"
    }
   ],
   "source": [
    "# 2.5 Faz a padronização de colunas que não são categorizaveis\n",
    "# Utilizando o mean / std no método abaixo\n",
    "def standardize_col(col):\n",
    "    mean = np.mean(col)\n",
    "    std = np.std(col)\n",
    "    return col.apply(lambda x: (x - mean) / std)\n",
    "\n",
    "non_cat_vars = ['accommodates', 'bedrooms', 'beds', 'number_of_reviews', 'availability_30', 'minimum_nights', 'bathrooms', 'amenities_sum', 'calculated_host_listings_count']\n",
    "for col in non_cat_vars:\n",
    "    data[col] = data[col].astype(float)\n",
    "    data[col] = standardize_col(data[col])\n",
    "\n",
    "data"
   ],
   "metadata": {
    "collapsed": false,
    "ExecuteTime": {
     "end_time": "2023-10-18T20:17:14.056147600Z",
     "start_time": "2023-10-18T20:17:12.956449800Z"
    }
   },
   "id": "e415f29ff0c46f3f"
  },
  {
   "cell_type": "code",
   "execution_count": 57,
   "outputs": [],
   "source": [
    "# 3. Features do modelo, dados considerados para o treinamento\n",
    "features = (data.drop('price', axis=1).drop('property_type', axis=1).drop('room_type', axis=1).drop('amenities', axis=1)\n",
    "            .drop('bed_type', axis=1).drop('zipcode', axis=1).drop('review_scores_rating', axis=1).values)\n",
    "prediction = data['price'].values\n",
    "features"
   ],
   "metadata": {
    "collapsed": false,
    "ExecuteTime": {
     "end_time": "2023-10-18T20:47:24.469150400Z",
     "start_time": "2023-10-18T20:47:24.259032400Z"
    }
   },
   "id": "2bfdbdcdbcb70f0"
  },
  {
   "cell_type": "code",
   "execution_count": 45,
   "outputs": [],
   "source": [
    "# 3.1 Divisão dos dados entre valores de teste e treinamento\n",
    "# Baseado no estado e no tamanho de teste\n",
    "x_train, x_test, y_train, y_test = train_test_split(features, prediction, test_size=0.33, random_state=42)\n",
    "ss = StandardScaler()\n",
    "x_train = ss.fit_transform(x_train.astype(float))\n",
    "x_test = ss.transform(x_test.astype(float))"
   ],
   "metadata": {
    "collapsed": false,
    "ExecuteTime": {
     "end_time": "2023-10-18T20:34:00.979726200Z",
     "start_time": "2023-10-18T20:34:00.870727400Z"
    }
   },
   "id": "c30ecbbafe635f6"
  },
  {
   "cell_type": "code",
   "execution_count": 70,
   "outputs": [
    {
     "name": "stdout",
     "output_type": "stream",
     "text": [
      "Model: \"modelo-airbnb-dnn\"\n",
      "_________________________________________________________________\n",
      " Layer (type)                Output Shape              Param #   \n",
      "=================================================================\n",
      " dense_66 (Dense)            (None, 512)               7680      \n",
      "                                                                 \n",
      " leaky_re_lu_15 (LeakyReLU)  (None, 512)               0         \n",
      "                                                                 \n",
      " batch_normalization_16 (Ba  (None, 512)               2048      \n",
      " tchNormalization)                                               \n",
      "                                                                 \n",
      " dropout_19 (Dropout)        (None, 512)               0         \n",
      "                                                                 \n",
      " dense_67 (Dense)            (None, 512)               262656    \n",
      "                                                                 \n",
      " leaky_re_lu_16 (LeakyReLU)  (None, 512)               0         \n",
      "                                                                 \n",
      " batch_normalization_17 (Ba  (None, 512)               2048      \n",
      " tchNormalization)                                               \n",
      "                                                                 \n",
      " dropout_20 (Dropout)        (None, 512)               0         \n",
      "                                                                 \n",
      " dense_68 (Dense)            (None, 256)               131328    \n",
      "                                                                 \n",
      " leaky_re_lu_17 (LeakyReLU)  (None, 256)               0         \n",
      "                                                                 \n",
      " batch_normalization_18 (Ba  (None, 256)               1024      \n",
      " tchNormalization)                                               \n",
      "                                                                 \n",
      " dropout_21 (Dropout)        (None, 256)               0         \n",
      "                                                                 \n",
      " dense_69 (Dense)            (None, 256)               65792     \n",
      "                                                                 \n",
      " leaky_re_lu_18 (LeakyReLU)  (None, 256)               0         \n",
      "                                                                 \n",
      " batch_normalization_19 (Ba  (None, 256)               1024      \n",
      " tchNormalization)                                               \n",
      "                                                                 \n",
      " dropout_22 (Dropout)        (None, 256)               0         \n",
      "                                                                 \n",
      " dense_70 (Dense)            (None, 128)               32896     \n",
      "                                                                 \n",
      " leaky_re_lu_19 (LeakyReLU)  (None, 128)               0         \n",
      "                                                                 \n",
      " dropout_23 (Dropout)        (None, 128)               0         \n",
      "                                                                 \n",
      " dense_71 (Dense)            (None, 1)                 129       \n",
      "                                                                 \n",
      "=================================================================\n",
      "Total params: 506625 (1.93 MB)\n",
      "Trainable params: 503553 (1.92 MB)\n",
      "Non-trainable params: 3072 (12.00 KB)\n",
      "_________________________________________________________________\n"
     ]
    }
   ],
   "source": [
    "# 3.2 Criação do modelo sequencial de network neural\n",
    "# Utilizando algoritmos do Keras, pelo tensorflow\n",
    "model = keras.models.Sequential([\n",
    "    keras.layers.Dense(512, input_shape=(14,)),\n",
    "    keras.layers.LeakyReLU(),\n",
    "    keras.layers.BatchNormalization(),\n",
    "    keras.layers.Dropout(0.3),\n",
    "    keras.layers.Dense(512),\n",
    "    keras.layers.LeakyReLU(),\n",
    "    keras.layers.BatchNormalization(),\n",
    "    keras.layers.Dropout(0.3),\n",
    "    keras.layers.Dense(256),\n",
    "    keras.layers.LeakyReLU(),\n",
    "    keras.layers.BatchNormalization(),\n",
    "    keras.layers.Dropout(0.2),\n",
    "    keras.layers.Dense(256),\n",
    "    keras.layers.LeakyReLU(),\n",
    "    keras.layers.BatchNormalization(),\n",
    "    keras.layers.Dropout(0.01),\n",
    "    keras.layers.Dense(128),\n",
    "    keras.layers.LeakyReLU(),\n",
    "    keras.layers.Dropout(0.05),\n",
    "    keras.layers.Dense(1, activation=\"linear\"),\n",
    "],name=\"modelo-airbnb-dnn\",)\n",
    "model.compile(optimizer=keras.optimizers.Nadam(learning_rate=0.005),\n",
    "              loss=[keras.losses.MeanSquaredError()], metrics=[keras.metrics.MeanAbsoluteError()])\n",
    "model.summary()\n",
    "\n",
    "# 3.3 Criação de um callback para uso durante treinamento.\n",
    "# O Keras salva o modelo mais efetivo criado durante o treinamento na pasta de checkpoints.\n",
    "checkpoint_name = 'Weights\\Weights-{epoch:03d}--{val_loss:.5f}.keras' \n",
    "checkpoint = tf.keras.callbacks.ModelCheckpoint(checkpoint_name, monitor='val_loss', verbose = 1, save_best_only = True, mode ='auto')\n",
    "callbacks_list = [checkpoint]"
   ],
   "metadata": {
    "collapsed": false,
    "ExecuteTime": {
     "end_time": "2023-10-18T21:19:29.615540200Z",
     "start_time": "2023-10-18T21:19:29.444085200Z"
    }
   },
   "id": "5ee3001c7c870c6a"
  },
  {
   "cell_type": "code",
   "execution_count": 73,
   "outputs": [
    {
     "name": "stdout",
     "output_type": "stream",
     "text": [
      "Epoch 1/20\n",
      "229/230 [============================>.] - ETA: 0s - loss: 545925.5625 - mean_absolute_error: 210.2053\n",
      "Epoch 1: val_loss improved from 643980.37500 to 637575.37500, saving model to Weights\\Weights-001--637575.37500.hdf5\n",
      "230/230 [==============================] - 9s 40ms/step - loss: 549083.8125 - mean_absolute_error: 210.3020 - val_loss: 637575.3750 - val_mean_absolute_error: 199.3761\n",
      "Epoch 2/20\n",
      "  3/230 [..............................] - ETA: 8s - loss: 305139.9688 - mean_absolute_error: 200.9314"
     ]
    },
    {
     "name": "stderr",
     "output_type": "stream",
     "text": [
      "C:\\Users\\first\\OneDrive\\Documentos\\Projects\\bartmoss-airbnb\\Lib\\site-packages\\keras\\src\\engine\\training.py:3079: UserWarning: You are saving your model as an HDF5 file via `model.save()`. This file format is considered legacy. We recommend using instead the native Keras format, e.g. `model.save('my_model.keras')`.\n",
      "  saving_api.save_model(\n"
     ]
    },
    {
     "name": "stdout",
     "output_type": "stream",
     "text": [
      "229/230 [============================>.] - ETA: 0s - loss: 548891.1875 - mean_absolute_error: 211.7222\n",
      "Epoch 2: val_loss improved from 637575.37500 to 602616.87500, saving model to Weights\\Weights-002--602616.87500.hdf5\n",
      "230/230 [==============================] - 9s 39ms/step - loss: 548441.7500 - mean_absolute_error: 211.7136 - val_loss: 602616.8750 - val_mean_absolute_error: 200.1965\n",
      "Epoch 3/20\n",
      "229/230 [============================>.] - ETA: 0s - loss: 544567.0000 - mean_absolute_error: 210.7393\n",
      "Epoch 3: val_loss improved from 602616.87500 to 596464.50000, saving model to Weights\\Weights-003--596464.50000.hdf5\n",
      "230/230 [==============================] - 9s 40ms/step - loss: 543951.0000 - mean_absolute_error: 210.7442 - val_loss: 596464.5000 - val_mean_absolute_error: 209.4629\n",
      "Epoch 4/20\n",
      "229/230 [============================>.] - ETA: 0s - loss: 541450.3750 - mean_absolute_error: 211.0082\n",
      "Epoch 4: val_loss did not improve from 596464.50000\n",
      "230/230 [==============================] - 9s 38ms/step - loss: 541277.6875 - mean_absolute_error: 211.0344 - val_loss: 598869.6250 - val_mean_absolute_error: 195.8206\n",
      "Epoch 5/20\n",
      "229/230 [============================>.] - ETA: 0s - loss: 537179.1875 - mean_absolute_error: 211.7232\n",
      "Epoch 5: val_loss did not improve from 596464.50000\n",
      "230/230 [==============================] - 9s 38ms/step - loss: 541078.5000 - mean_absolute_error: 211.8637 - val_loss: 616019.4375 - val_mean_absolute_error: 194.3257\n",
      "Epoch 6/20\n",
      "229/230 [============================>.] - ETA: 0s - loss: 535477.5000 - mean_absolute_error: 210.3688\n",
      "Epoch 6: val_loss improved from 596464.50000 to 584452.06250, saving model to Weights\\Weights-006--584452.06250.hdf5\n",
      "230/230 [==============================] - 9s 38ms/step - loss: 534598.5625 - mean_absolute_error: 210.3346 - val_loss: 584452.0625 - val_mean_absolute_error: 192.2678\n",
      "Epoch 7/20\n",
      "229/230 [============================>.] - ETA: 0s - loss: 535191.4375 - mean_absolute_error: 211.2040\n",
      "Epoch 7: val_loss did not improve from 584452.06250\n",
      "230/230 [==============================] - 9s 38ms/step - loss: 534313.1875 - mean_absolute_error: 211.1689 - val_loss: 603552.1875 - val_mean_absolute_error: 194.1532\n",
      "Epoch 8/20\n",
      "229/230 [============================>.] - ETA: 0s - loss: 527104.1250 - mean_absolute_error: 211.7822\n",
      "Epoch 8: val_loss did not improve from 584452.06250\n",
      "230/230 [==============================] - 9s 38ms/step - loss: 526325.0000 - mean_absolute_error: 211.7361 - val_loss: 641722.7500 - val_mean_absolute_error: 208.1357\n",
      "Epoch 9/20\n",
      "229/230 [============================>.] - ETA: 0s - loss: 528590.6875 - mean_absolute_error: 211.2370\n",
      "Epoch 9: val_loss did not improve from 584452.06250\n",
      "230/230 [==============================] - 9s 38ms/step - loss: 527748.5000 - mean_absolute_error: 211.2011 - val_loss: 592583.3750 - val_mean_absolute_error: 196.7077\n",
      "Epoch 10/20\n",
      "230/230 [==============================] - ETA: 0s - loss: 531628.5625 - mean_absolute_error: 210.9456\n",
      "Epoch 10: val_loss improved from 584452.06250 to 572243.87500, saving model to Weights\\Weights-010--572243.87500.hdf5\n",
      "230/230 [==============================] - 9s 40ms/step - loss: 531628.5625 - mean_absolute_error: 210.9456 - val_loss: 572243.8750 - val_mean_absolute_error: 195.0977\n",
      "Epoch 11/20\n",
      "229/230 [============================>.] - ETA: 0s - loss: 529706.1250 - mean_absolute_error: 211.5006\n",
      "Epoch 11: val_loss did not improve from 572243.87500\n",
      "230/230 [==============================] - 9s 39ms/step - loss: 529003.6875 - mean_absolute_error: 211.4935 - val_loss: 593099.8125 - val_mean_absolute_error: 204.7066\n",
      "Epoch 12/20\n",
      "229/230 [============================>.] - ETA: 0s - loss: 522147.6875 - mean_absolute_error: 209.8000\n",
      "Epoch 12: val_loss did not improve from 572243.87500\n",
      "230/230 [==============================] - 9s 38ms/step - loss: 523625.6562 - mean_absolute_error: 209.9212 - val_loss: 600453.2500 - val_mean_absolute_error: 201.0292\n",
      "Epoch 13/20\n",
      "229/230 [============================>.] - ETA: 0s - loss: 518928.8438 - mean_absolute_error: 210.4861\n",
      "Epoch 13: val_loss did not improve from 572243.87500\n",
      "230/230 [==============================] - 9s 38ms/step - loss: 518220.4062 - mean_absolute_error: 210.4338 - val_loss: 592007.1250 - val_mean_absolute_error: 187.2048\n",
      "Epoch 14/20\n",
      "229/230 [============================>.] - ETA: 0s - loss: 520521.0000 - mean_absolute_error: 210.4575\n",
      "Epoch 14: val_loss did not improve from 572243.87500\n",
      "230/230 [==============================] - 9s 38ms/step - loss: 519622.9375 - mean_absolute_error: 210.3896 - val_loss: 612387.0625 - val_mean_absolute_error: 205.9197\n",
      "Epoch 15/20\n",
      "229/230 [============================>.] - ETA: 0s - loss: 520510.4688 - mean_absolute_error: 211.6591\n",
      "Epoch 15: val_loss did not improve from 572243.87500\n",
      "230/230 [==============================] - 9s 38ms/step - loss: 519730.1562 - mean_absolute_error: 211.5974 - val_loss: 595331.0625 - val_mean_absolute_error: 189.2600\n",
      "Epoch 16/20\n",
      "229/230 [============================>.] - ETA: 0s - loss: 510363.5938 - mean_absolute_error: 210.0560\n",
      "Epoch 16: val_loss did not improve from 572243.87500\n",
      "230/230 [==============================] - 9s 38ms/step - loss: 509731.1562 - mean_absolute_error: 210.0376 - val_loss: 579040.2500 - val_mean_absolute_error: 196.2596\n",
      "Epoch 17/20\n",
      "229/230 [============================>.] - ETA: 0s - loss: 509519.6250 - mean_absolute_error: 210.7554\n",
      "Epoch 17: val_loss improved from 572243.87500 to 562138.00000, saving model to Weights\\Weights-017--562138.00000.hdf5\n",
      "230/230 [==============================] - 9s 38ms/step - loss: 508756.5312 - mean_absolute_error: 210.7066 - val_loss: 562138.0000 - val_mean_absolute_error: 197.2411\n",
      "Epoch 18/20\n",
      "229/230 [============================>.] - ETA: 0s - loss: 503956.0625 - mean_absolute_error: 209.6282\n",
      "Epoch 18: val_loss improved from 562138.00000 to 558612.37500, saving model to Weights\\Weights-018--558612.37500.hdf5\n",
      "230/230 [==============================] - 9s 38ms/step - loss: 504224.7500 - mean_absolute_error: 209.6813 - val_loss: 558612.3750 - val_mean_absolute_error: 196.4574\n",
      "Epoch 19/20\n",
      "229/230 [============================>.] - ETA: 0s - loss: 511092.5312 - mean_absolute_error: 210.4827\n",
      "Epoch 19: val_loss did not improve from 558612.37500\n",
      "230/230 [==============================] - 9s 39ms/step - loss: 510359.9062 - mean_absolute_error: 210.4721 - val_loss: 592496.1875 - val_mean_absolute_error: 213.5542\n",
      "Epoch 20/20\n",
      "229/230 [============================>.] - ETA: 0s - loss: 517946.5938 - mean_absolute_error: 210.7081\n",
      "Epoch 20: val_loss did not improve from 558612.37500\n",
      "230/230 [==============================] - 9s 38ms/step - loss: 517103.3125 - mean_absolute_error: 210.6526 - val_loss: 561233.0625 - val_mean_absolute_error: 192.4092\n",
      "--- 0:02:56.604220 minutes ---\n"
     ]
    }
   ],
   "source": [
    "# 4. Treina o modelo utilizando os dados do CSV\n",
    "# Há um código para marcar o tempo de treinamento\n",
    "start_time = time.time()\n",
    "history = model.fit(x_train, y_train, epochs=20, batch_size=1024, callbacks=callbacks_list, validation_data=(x_test, y_test))\n",
    "print(\"--- %s minutes ---\" % datetime.timedelta(seconds=(time.time() - start_time)))"
   ],
   "metadata": {
    "collapsed": false,
    "ExecuteTime": {
     "end_time": "2023-10-18T21:25:00.244144200Z",
     "start_time": "2023-10-18T21:22:03.634155500Z"
    }
   },
   "id": "d6492608f0263837"
  },
  {
   "cell_type": "code",
   "execution_count": 80,
   "outputs": [
    {
     "name": "stdout",
     "output_type": "stream",
     "text": [
      "3617/3617 [==============================] - 5s 1ms/step\n"
     ]
    },
    {
     "data": {
      "text/plain": "array([[171.30629],\n       [232.10245],\n       [294.3478 ],\n       ...,\n       [499.76395],\n       [441.0188 ],\n       [168.2345 ]], dtype=float32)"
     },
     "execution_count": 80,
     "metadata": {},
     "output_type": "execute_result"
    }
   ],
   "source": [
    "# 5. Carregar o melhor modelo para a predição\n",
    "ldModel = keras.saving.load_model('./Weights/Weights-010--572243.87500.hdf5')\n",
    "ldModel.predict(x_test)"
   ],
   "metadata": {
    "collapsed": false,
    "ExecuteTime": {
     "end_time": "2023-10-18T21:36:47.989218200Z",
     "start_time": "2023-10-18T21:36:42.239428700Z"
    }
   },
   "id": "d69dbd4d66703c0e"
  },
  {
   "cell_type": "code",
   "execution_count": 14,
   "outputs": [
    {
     "data": {
      "text/plain": "array([ 66., 198., 374., ..., 349., 269.,  90.])"
     },
     "execution_count": 14,
     "metadata": {},
     "output_type": "execute_result"
    }
   ],
   "source": [
    "y_test"
   ],
   "metadata": {
    "collapsed": false,
    "ExecuteTime": {
     "end_time": "2023-10-18T20:21:18.470057600Z",
     "start_time": "2023-10-18T20:21:18.464031Z"
    }
   },
   "id": "4f349af1142c0043"
  },
  {
   "cell_type": "code",
   "execution_count": null,
   "outputs": [],
   "source": [
    "plt.plot(history.history['mean_absolute_error'])\n",
    "plt.plot(history.history['val_mean_absolute_error'])\n",
    "plt.title('model accuracy')\n",
    "plt.ylabel('precisão')\n",
    "plt.xlabel('geração')\n",
    "plt.legend(['train', 'test'], loc='upper left')"
   ],
   "metadata": {
    "collapsed": false,
    "ExecuteTime": {
     "start_time": "2023-10-18T20:17:15.544614200Z"
    }
   },
   "id": "a7121d97375c4613"
  },
  {
   "cell_type": "code",
   "execution_count": null,
   "outputs": [],
   "source": [
    "plt.plot(history.history['loss'])\n",
    "plt.plot(history.history['val_loss'])\n",
    "plt.title('model loss')\n",
    "plt.ylabel('perda')\n",
    "plt.xlabel('gerações')\n",
    "plt.legend(['train', 'test'], loc='upper left')"
   ],
   "metadata": {
    "collapsed": false,
    "ExecuteTime": {
     "start_time": "2023-10-18T20:17:15.545611100Z"
    }
   },
   "id": "e5a003cc65ea05c6"
  },
  {
   "cell_type": "code",
   "execution_count": null,
   "outputs": [],
   "source": [
    "y_test\n",
    "model.predict(x_test)"
   ],
   "metadata": {
    "collapsed": false,
    "ExecuteTime": {
     "start_time": "2023-10-18T20:17:15.546613300Z"
    }
   },
   "id": "a20e5feec5591ca2"
  }
 ],
 "metadata": {
  "kernelspec": {
   "display_name": "Python 3",
   "language": "python",
   "name": "python3"
  },
  "language_info": {
   "codemirror_mode": {
    "name": "ipython",
    "version": 2
   },
   "file_extension": ".py",
   "mimetype": "text/x-python",
   "name": "python",
   "nbconvert_exporter": "python",
   "pygments_lexer": "ipython2",
   "version": "2.7.6"
  }
 },
 "nbformat": 4,
 "nbformat_minor": 5
}
